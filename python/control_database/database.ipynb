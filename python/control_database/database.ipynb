{
 "cells": [
  {
   "cell_type": "markdown",
   "metadata": {},
   "source": [
    "## Initialize client\n",
    "\n",
    "Json file of private key needs to be generated on Google Cloud console. https://cloud.google.com/cloud-console\n",
    "\n",
    "IAM & admin > Service accounts > Actions for firebase-adminsdk-5yfs8@oceanview-2c289.iam.gserviceaccount.com > Manage Keys > Add key > Create new key"
   ]
  },
  {
   "cell_type": "code",
   "execution_count": 1,
   "metadata": {},
   "outputs": [],
   "source": [
    "import firebase_admin\n",
    "from firebase_admin import credentials\n",
    "from firebase_admin import firestore\n",
    "\n",
    "# Use a service account.\n",
    "cred = credentials.Certificate('../../private_keys/oceanview-2c289-a82efd1fbe12.json')\n",
    "\n",
    "app = firebase_admin.initialize_app(cred)\n",
    "\n",
    "db = firestore.client()\n"
   ]
  },
  {
   "cell_type": "markdown",
   "metadata": {},
   "source": [
    "### Copy collection to make backup"
   ]
  },
  {
   "cell_type": "code",
   "execution_count": 2,
   "metadata": {},
   "outputs": [],
   "source": [
    "old_collect_ref = db.collection(\"observations\")\n",
    "new_collect_ref = db.collection(\"observations_backup_1223\")\n",
    "\n",
    "old_docs_ref = old_collect_ref.stream()\n",
    "for i, old_doc_ref in enumerate(old_docs_ref):\n",
    "    new_collect_ref.add(old_doc_ref.to_dict())"
   ]
  },
  {
   "cell_type": "markdown",
   "metadata": {},
   "source": [
    "### Update documents"
   ]
  },
  {
   "cell_type": "code",
   "execution_count": 3,
   "metadata": {},
   "outputs": [
    {
     "name": "stdout",
     "output_type": "stream",
     "text": [
      "5LiMz15Aj6o0yonSJU1h doesn't have confidentiality\n",
      "6tR9hEOSb1FyiYLNSrZI doesn't have confidentiality\n",
      "7vMZoKXK2nDxFrSGhx70 doesn't have confidentiality\n",
      "8t8Q3hY5JbghVBV2K70h doesn't have confidentiality\n",
      "GkZQvQimbpio3Zz2L7Rq doesn't have confidentiality\n",
      "JfbNVbopl1AgC5WM7rJi doesn't have confidentiality\n",
      "KQvWA6OMJvinCCkSQTvd doesn't have confidentiality\n",
      "LtmxDmDvQ1IXoQlfdw1C doesn't have confidentiality\n",
      "N3WV0DHy8xRbi7a4Owww doesn't have confidentiality\n",
      "Z6PPqIsT7MF8YCmhUzDG doesn't have confidentiality\n",
      "hp8QuFqaZdkJGSGj6hel doesn't have confidentiality\n",
      "kK3z4w6SAqCZXpspET5b doesn't have confidentiality\n",
      "l1OsOgUfj4Sg5aB9tnSi doesn't have confidentiality\n",
      "q9lgs4dOLlc4g5xjlzXq doesn't have confidentiality\n",
      "udT5pytp4hp1U6xYqxiq doesn't have confidentiality\n",
      "vNWY15Ac8i0A5StsqlqM doesn't have confidentiality\n",
      "xLrE10pbfuloxO4DMyD9 doesn't have confidentiality\n",
      "xfVwwWRTq988nAf54zSY doesn't have confidentiality\n",
      "Set of confidentiality: {'Do not share', 'Share with community', 'Share with scientists'}\n",
      "Set of status: {'Release', 'Catch', 'Caught', 'Observed', 'Observe'}\n"
     ]
    }
   ],
   "source": [
    "# check all fields\n",
    "collect_ref = db.collection(\"observations\")\n",
    "docs_ref = collect_ref.stream()\n",
    "set_status = set()\n",
    "set_share = set()\n",
    "num_doc = 0\n",
    "\n",
    "for i, doc in enumerate(docs_ref):\n",
    "    num_doc += 1\n",
    "    try:\n",
    "        set_share.add(doc.get(\"confidentiality\"))\n",
    "    except:\n",
    "        print(f\"{doc.id} doesn't have confidentiality\")\n",
    "    try: \n",
    "        set_status.add(doc.get(\"status\"))\n",
    "    except:\n",
    "        print(f\"{doc.id} doesn't have status\")\n",
    "\n",
    "print(f\"Set of confidentiality: {set_share}\")\n",
    "print(f\"Set of status: {set_status}\")"
   ]
  },
  {
   "cell_type": "code",
   "execution_count": 4,
   "metadata": {},
   "outputs": [
    {
     "name": "stdout",
     "output_type": "stream",
     "text": [
      "confidentiality of 5LiMz15Aj6o0yonSJU1h cannot be updated\n",
      "confidentiality of 6tR9hEOSb1FyiYLNSrZI cannot be updated\n",
      "confidentiality of 7vMZoKXK2nDxFrSGhx70 cannot be updated\n",
      "confidentiality of 8t8Q3hY5JbghVBV2K70h cannot be updated\n",
      "confidentiality of GkZQvQimbpio3Zz2L7Rq cannot be updated\n",
      "confidentiality of JfbNVbopl1AgC5WM7rJi cannot be updated\n",
      "confidentiality of KQvWA6OMJvinCCkSQTvd cannot be updated\n",
      "confidentiality of LtmxDmDvQ1IXoQlfdw1C cannot be updated\n",
      "confidentiality of N3WV0DHy8xRbi7a4Owww cannot be updated\n",
      "confidentiality of Z6PPqIsT7MF8YCmhUzDG cannot be updated\n",
      "confidentiality of hp8QuFqaZdkJGSGj6hel cannot be updated\n",
      "confidentiality of kK3z4w6SAqCZXpspET5b cannot be updated\n",
      "confidentiality of l1OsOgUfj4Sg5aB9tnSi cannot be updated\n",
      "confidentiality of q9lgs4dOLlc4g5xjlzXq cannot be updated\n",
      "confidentiality of udT5pytp4hp1U6xYqxiq cannot be updated\n",
      "confidentiality of vNWY15Ac8i0A5StsqlqM cannot be updated\n",
      "confidentiality of xLrE10pbfuloxO4DMyD9 cannot be updated\n",
      "confidentiality of xfVwwWRTq988nAf54zSY cannot be updated\n"
     ]
    }
   ],
   "source": [
    "# update certain fields\n",
    "share_map = {\n",
    "    \"Do not share\": 0, \n",
    "    \"Share with community\": 1, \n",
    "    \"Share with scientists\": 1\n",
    "}\n",
    "\n",
    "status_map = {\n",
    "    \"Catch\": 0, \n",
    "    \"Caught\": 0, \n",
    "    \"Observe\": 1,\n",
    "    \"Observed\": 1,\n",
    "    \"Release\": 2\n",
    "}\n",
    "\n",
    "collect_ref = db.collection(\"observations\")\n",
    "docs_ref = collect_ref.stream()\n",
    "for i, doc_ref in enumerate(docs_ref):\n",
    "    doc = collect_ref.document(doc_ref.id)\n",
    "    try:\n",
    "        doc.update({\"confidentiality\": share_map[doc_ref.get(\"confidentiality\")]})\n",
    "    except:\n",
    "        print(f\"confidentiality of {doc.id} cannot be updated\")\n",
    "    try:\n",
    "        doc.update({\"status\": status_map[doc_ref.get(\"status\")]})\n",
    "    except:\n",
    "        print(f\"status of {doc.id} cannot be updated\")\n"
   ]
  },
  {
   "cell_type": "markdown",
   "metadata": {},
   "source": [
    "### Delete collections"
   ]
  },
  {
   "cell_type": "code",
   "execution_count": 27,
   "metadata": {},
   "outputs": [
    {
     "name": "stdout",
     "output_type": "stream",
     "text": [
      "Deleting doc 08MxnERMe7nFKJgbVw8T => {'index': 15, 'confidence': 1}\n",
      "Deleting doc 0capwRfbXKOXBjs36Iw2 => {'index': 36, 'confidence': 0}\n",
      "Deleting doc 0h9tKRSjMSWchKuclZAM => {'index': 96, 'confidence': 0}\n",
      "Deleting doc 11a43gxOc6CGYjEpCutx => {'index': 41, 'confidence': 1}\n",
      "Deleting doc 16VLaOUfw3b69E3D4kpV => {'index': 90, 'confidence': 1}\n",
      "Deleting doc 1yiGVva4XH90IU9ePjju => {'index': 95, 'confidence': 0}\n",
      "Deleting doc 2vJFQiSQydf5zr4l6eF9 => {'index': 56, 'confidence': 0}\n",
      "Deleting doc 54kebr7OYVO5v7Dh7rFw => {'index': 49, 'confidence': 2}\n",
      "Deleting doc 5k3QoiD1vMmwTKnv98fc => {'index': 55, 'confidence': 2}\n",
      "Deleting doc 64XMQveNI1t9H4iuXsVN => {'index': 42, 'confidence': 0}\n",
      "Deleting doc 6DP961ZiuDg0vZi3pNcP => {'index': 61, 'confidence': 1}\n",
      "Deleting doc 6ozWNF7zBwwzMkZYmHNc => {'index': 74, 'confidence': 1}\n",
      "Deleting doc 6uwZVgZtLIz9Vpcxc7mJ => {'index': 47, 'confidence': 0}\n",
      "Deleting doc 7EAnQvgoS6h74TYhpajZ => {'index': 71, 'confidence': 2}\n",
      "Deleting doc 7Z7cGEP7GUb4jWRfFkny => {'index': 85, 'confidence': 2}\n",
      "Deleting doc 9DPvWXcNo6DXJ0fYQ0SW => {'index': 4, 'confidence': 1}\n",
      "Deleting doc 9WlHUs3S32V4Em5Yk8xW => {'index': 98, 'confidence': 0}\n",
      "Deleting doc AXCiYtLR9bvpmsfK0nvu => {'index': 75, 'confidence': 2}\n",
      "Deleting doc AYslpxNi8aMhGND19xLL => {'index': 1, 'confidence': 2}\n",
      "Deleting doc B0FwsbRPG7w4T3gn9Fbv => {'index': 30, 'confidence': 2}\n",
      "Deleting doc CavvRKln60szXl4Lv2yw => {'index': 69, 'confidence': 0}\n",
      "Deleting doc CryJkuiioRr8lnvFYncT => {'index': 70, 'confidence': 1}\n",
      "Deleting doc FdWhENoZnb3vw9zNycy6 => {'index': 48, 'confidence': 0}\n",
      "Deleting doc G6Md28PhXnRkZCRy8M6X => {'index': 8, 'confidence': 0}\n",
      "Deleting doc H5NEL0l6MB5A5bFlL3Ix => {'index': 12, 'confidence': 2}\n",
      "Deleting doc HoEN0B6yoXTsB7lNPn9R => {'index': 72, 'confidence': 0}\n",
      "Deleting doc Il2URSjTqIpkqtKGNNNK => {'index': 79, 'confidence': 1}\n",
      "Deleting doc J6Lx4s8ZN3cTZDauLlq7 => {'index': 19, 'confidence': 1}\n",
      "Deleting doc J9qeyirerWq76cHuqDiV => {'index': 88, 'confidence': 2}\n",
      "Deleting doc K9R8LMVYXgNa8QCDeH56 => {'index': 3, 'confidence': 1}\n",
      "Deleting doc KlNyprRhJdryKatN70ip => {'index': 81, 'confidence': 2}\n",
      "Deleting doc LRobbiBZbfvM1rap4ugQ => {'index': 26, 'confidence': 1}\n",
      "Deleting doc Li0jkiQzMATOq37YT9nS => {'index': 73, 'confidence': 2}\n",
      "Deleting doc MHzOyN7qEVRZxy96puMF => {'index': 99, 'confidence': 1}\n",
      "Deleting doc NQsKxYR8G4PmBtvd4JRD => {'index': 94, 'confidence': 0}\n",
      "Deleting doc NZfw6RffgLG7dIpSQGv3 => {'index': 2, 'confidence': 1}\n",
      "Deleting doc NcBltWSbhqsYiFErZR8v => {'index': 10, 'confidence': 0}\n",
      "Deleting doc PJ0rKBQT68ybbMgFQSaP => {'index': 87, 'confidence': 2}\n",
      "Deleting doc QKgL1vzVjye3mHANfWw4 => {'index': 33, 'confidence': 2}\n",
      "Deleting doc Qh0VPNqPTd6wTKPHZZq4 => {'index': 44, 'confidence': 2}\n",
      "Deleting doc QvfCwKZgsmkcHiOj2iMu => {'index': 29, 'confidence': 2}\n",
      "Deleting doc RNLukLjevU0yRVkmd3Ju => {'index': 35, 'confidence': 0}\n",
      "Deleting doc RSAr8RcgFXLrLgjc0Bb6 => {'index': 45, 'confidence': 1}\n",
      "Deleting doc RZSUV3H16EOeAZfU4Gvr => {'index': 18, 'confidence': 0}\n",
      "Deleting doc RnddxCUsuyUygivs4Zqz => {'index': 50, 'confidence': 1}\n",
      "Deleting doc ShzMcMzV1LSY4q28dJXw => {'index': 84, 'confidence': 0}\n",
      "Deleting doc SjRW1Ps3SySCBAWaKoVJ => {'index': 64, 'confidence': 0}\n",
      "Deleting doc T7UujGIaQzvZ5mSIAe0G => {'index': 66, 'confidence': 0}\n",
      "Deleting doc T9Cp0o681tcDkZME6GB3 => {'index': 27, 'confidence': 0}\n",
      "Deleting doc TZ6CHKP54MWyKId5rtMV => {'index': 32, 'confidence': 2}\n",
      "Deleting doc TrJyDA8GlP9bXZI0BzoZ => {'index': 97, 'confidence': 0}\n",
      "Deleting doc Uggz2U07BzR2Rixsk5m7 => {'index': 34, 'confidence': 2}\n",
      "Deleting doc VPuxR09Yxv6HghHB7luP => {'index': 65, 'confidence': 0}\n",
      "Deleting doc VkwneBQj1ESGSVE0c3EU => {'index': 58, 'confidence': 0}\n",
      "Deleting doc WA53bg9PcvojupGZ4Aa0 => {'index': 51, 'confidence': 0}\n",
      "Deleting doc WYJbdJ5pOg3HzepVdKaM => {'index': 5, 'confidence': 0}\n",
      "Deleting doc WgTVyDyfrUoSi3BbT5gA => {'index': 6, 'confidence': 0}\n",
      "Deleting doc XbF0hJ5ytgmhWQ9gapnx => {'index': 0, 'confidence': 1}\n",
      "Deleting doc XwGVGU9GdfF38E3ysPA7 => {'index': 20, 'confidence': 2}\n",
      "Deleting doc YKqNWWoiTZ9veQ3dE8Dt => {'index': 16, 'confidence': 2}\n",
      "Deleting doc YV3UbJImubtTsP3NlCuS => {'index': 80, 'confidence': 2}\n",
      "Deleting doc YjGntb1MN2xCKeK8B7kY => {'index': 37, 'confidence': 0}\n",
      "Deleting doc ZbpE4WCRtfg049yYXYuB => {'index': 14, 'confidence': 1}\n",
      "Deleting doc aJ7Hhik9H67PA8czDIjs => {'index': 46, 'confidence': 1}\n",
      "Deleting doc ap4F4fNokvh1vkLBu5N2 => {'index': 86, 'confidence': 0}\n",
      "Deleting doc c4ksHf03QEcrWpce8Cog => {'index': 54, 'confidence': 2}\n",
      "Deleting doc d2dc7jXeuuR7MRIxTDss => {'index': 9, 'confidence': 2}\n",
      "Deleting doc ecKKHnFv59JHuAqyXBv1 => {'index': 62, 'confidence': 0}\n",
      "Deleting doc fdXDqFGTw22uabD90qRU => {'index': 31, 'confidence': 2}\n",
      "Deleting doc gFW18i9WnyJXIQ0Wcfhn => {'index': 11, 'confidence': 2}\n",
      "Deleting doc gMIUJxzySLNESHdQsd6f => {'index': 57, 'confidence': 0}\n",
      "Deleting doc gRhEfV8IFssOVYQq1lDA => {'index': 39, 'confidence': 0}\n",
      "Deleting doc gcys50hpCMn2BcDKB5hE => {'index': 82, 'confidence': 1}\n",
      "Deleting doc gn3BLwNJ4xyl8EbiRx3y => {'index': 24, 'confidence': 1}\n",
      "Deleting doc h9pjVrI02MLR4AzHOO6F => {'index': 77, 'confidence': 2}\n",
      "Deleting doc i8GO0kR7nmKQyGWoM4rg => {'index': 22, 'confidence': 0}\n",
      "Deleting doc j25MtGVW3ATa7CiY8c5m => {'index': 76, 'confidence': 0}\n",
      "Deleting doc jNuE9pIOY0rjxvIGDfFl => {'index': 60, 'confidence': 1}\n",
      "Deleting doc kNeII2IPC0TsWsB0U7cD => {'index': 92, 'confidence': 1}\n",
      "Deleting doc ldyNLyB3phKfREXMsky3 => {'index': 91, 'confidence': 2}\n",
      "Deleting doc mjPWO5cO47n8wBqwJBrG => {'index': 52, 'confidence': 1}\n",
      "Deleting doc nhUxd3dZhDEQqtv4gNtU => {'index': 67, 'confidence': 1}\n",
      "Deleting doc pMsBRLtmI1jtT1aq8Kws => {'index': 40, 'confidence': 1}\n",
      "Deleting doc pUfhOwqQIZfTDTKe5HYk => {'index': 53, 'confidence': 0}\n",
      "Deleting doc pbdILv3BAWJxNRspTJcD => {'index': 21, 'confidence': 0}\n",
      "Deleting doc rbR5NG7J3lvlArzig120 => {'index': 13, 'confidence': 0}\n",
      "Deleting doc tVjl6r4p2n1SnZBLlf1r => {'index': 63, 'confidence': 1}\n",
      "Deleting doc u1Dwh6FFVoEh5Vk8zKPg => {'index': 68, 'confidence': 2}\n",
      "Deleting doc utdkQgQ2mUt63Ohkbnrs => {'index': 43, 'confidence': 2}\n",
      "Deleting doc vHmSavOBs8QXH573d7VQ => {'index': 38, 'confidence': 0}\n",
      "Deleting doc vdCCqJgy8TY9Mx2wdkaB => {'index': 23, 'confidence': 0}\n",
      "Deleting doc vvZScb43RWXscA8NjSK6 => {'index': 28, 'confidence': 0}\n",
      "Deleting doc w2bkDubQsBFFEN9bp9Vr => {'index': 25, 'confidence': 0}\n",
      "Deleting doc wE2jaLexXHGKA4aZy9Qo => {'index': 17, 'confidence': 1}\n",
      "Deleting doc wbQ2u4NayvKwsND5eR3r => {'index': 83, 'confidence': 2}\n",
      "Deleting doc xq6gJdW3zMpvKsbTe017 => {'index': 59, 'confidence': 2}\n",
      "Deleting doc y1S0U4Y6r2iRosasSfYx => {'index': 93, 'confidence': 0}\n",
      "Deleting doc ynwoVaIJ1ASJKndhepgV => {'index': 78, 'confidence': 0}\n",
      "Deleting doc zS8cA3Q2le2RaRem5Lke => {'index': 89, 'confidence': 1}\n",
      "Deleting doc ztPEKvmyIBcfCnt2hrpV => {'index': 7, 'confidence': 0}\n"
     ]
    }
   ],
   "source": [
    "def delete_collection(coll_ref, batch_size):\n",
    "    docs = coll_ref.list_documents(page_size=batch_size)\n",
    "    deleted = 0\n",
    "\n",
    "    for doc in docs:\n",
    "        print(f\"Deleting doc {doc.id} => {doc.get().to_dict()}\")\n",
    "        doc.delete()\n",
    "        deleted = deleted + 1\n",
    "\n",
    "    if deleted >= batch_size:\n",
    "        return delete_collection(coll_ref, batch_size)\n",
    "\n",
    "delete_collection(db.collection(\"test_data\"), 10)"
   ]
  },
  {
   "cell_type": "code",
   "execution_count": null,
   "metadata": {},
   "outputs": [],
   "source": []
  }
 ],
 "metadata": {
  "kernelspec": {
   "display_name": "OceanView",
   "language": "python",
   "name": "python3"
  },
  "language_info": {
   "codemirror_mode": {
    "name": "ipython",
    "version": 3
   },
   "file_extension": ".py",
   "mimetype": "text/x-python",
   "name": "python",
   "nbconvert_exporter": "python",
   "pygments_lexer": "ipython3",
   "version": "3.11.6"
  },
  "orig_nbformat": 4
 },
 "nbformat": 4,
 "nbformat_minor": 2
}
