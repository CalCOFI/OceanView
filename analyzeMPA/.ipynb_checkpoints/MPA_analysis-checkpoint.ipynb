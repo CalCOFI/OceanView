{
 "cells": [
  {
   "cell_type": "markdown",
   "id": "785c144f",
   "metadata": {},
   "source": [
    "# Analyze types of MPA"
   ]
  },
  {
   "cell_type": "code",
   "execution_count": 17,
   "id": "3d6b5b1b",
   "metadata": {},
   "outputs": [],
   "source": [
    "import geojson\n",
    "import pandas as pd\n",
    "import numpy as np"
   ]
  },
  {
   "cell_type": "code",
   "execution_count": 3,
   "id": "73e7f795",
   "metadata": {},
   "outputs": [],
   "source": [
    "# Load geojson file\n",
    "path = '../assets/California_Marine_Protected_Areas_[ds582].geojson'\n",
    "with open(path) as f:\n",
    "    gj = geojson.load(f)\n",
    "\n",
    "# Extract Type, FULLNAME, OBJECTID\n",
    "dict_MPA = {'OBJECTID':[], 'Type':[], 'FULLNAME':[]}\n",
    "for i in range(len(gj['features'])):\n",
    "    "
   ]
  },
  {
   "cell_type": "code",
   "execution_count": 6,
   "id": "399c3763",
   "metadata": {},
   "outputs": [
    {
     "data": {
      "text/plain": [
       "'1dbd4719-f8c9-4d75-999d-81c179fba7872020313-1-itxrov.5a29'"
      ]
     },
     "execution_count": 6,
     "metadata": {},
     "output_type": "execute_result"
    }
   ],
   "source": [
    "gj['name']"
   ]
  },
  {
   "cell_type": "code",
   "execution_count": 7,
   "id": "f7c5dea3",
   "metadata": {},
   "outputs": [
    {
     "data": {
      "text/plain": [
       "'FeatureCollection'"
      ]
     },
     "execution_count": 7,
     "metadata": {},
     "output_type": "execute_result"
    }
   ],
   "source": [
    "gj['type']"
   ]
  },
  {
   "cell_type": "code",
   "execution_count": 11,
   "id": "aa9fa2e9",
   "metadata": {},
   "outputs": [
    {
     "data": {
      "text/plain": [
       "dict_keys(['type', 'geometry', 'properties'])"
      ]
     },
     "execution_count": 11,
     "metadata": {},
     "output_type": "execute_result"
    }
   ],
   "source": [
    "gj['features'][0].keys()"
   ]
  },
  {
   "cell_type": "code",
   "execution_count": 12,
   "id": "6bf0d6f0",
   "metadata": {},
   "outputs": [
    {
     "data": {
      "text/plain": [
       "155"
      ]
     },
     "execution_count": 12,
     "metadata": {},
     "output_type": "execute_result"
    }
   ],
   "source": [
    "len(gj['features'])"
   ]
  },
  {
   "cell_type": "code",
   "execution_count": 16,
   "id": "e6dd8389",
   "metadata": {},
   "outputs": [
    {
     "data": {
      "text/plain": [
       "{'OBJECTID': 1,\n",
       " 'NAME': 'Pyramid Point SMCA',\n",
       " 'CCR': 'Section 632 (b) (1)',\n",
       " 'Area_sq_mi': 13.9935561,\n",
       " 'Study_Regi': 'NCSR',\n",
       " 'FULLNAME': 'Pyramid Point State Marine Conservation Area',\n",
       " 'Type': 'SMCA',\n",
       " 'DFG_URL': 'https://www.wildlife.ca.gov/Conservation/Marine/MPAs/Network/Title-14-Section-632#Section-632-b-1',\n",
       " 'CCR_Int': 1,\n",
       " 'SHORTNAME': 'Pyramid Point',\n",
       " 'Acres': 8955.91152252,\n",
       " 'Hectares': 3624.32880634,\n",
       " 'Shape__Area': 65634640.4609375,\n",
       " 'Shape__Length': 36841.2099563691}"
      ]
     },
     "execution_count": 16,
     "metadata": {},
     "output_type": "execute_result"
    }
   ],
   "source": [
    "gj['features'][0]['properties']"
   ]
  },
  {
   "cell_type": "code",
   "execution_count": null,
   "id": "79228d0b",
   "metadata": {},
   "outputs": [],
   "source": []
  }
 ],
 "metadata": {
  "kernelspec": {
   "display_name": "Python 3 (ipykernel)",
   "language": "python",
   "name": "python3"
  },
  "language_info": {
   "codemirror_mode": {
    "name": "ipython",
    "version": 3
   },
   "file_extension": ".py",
   "mimetype": "text/x-python",
   "name": "python",
   "nbconvert_exporter": "python",
   "pygments_lexer": "ipython3",
   "version": "3.7.10"
  }
 },
 "nbformat": 4,
 "nbformat_minor": 5
}
