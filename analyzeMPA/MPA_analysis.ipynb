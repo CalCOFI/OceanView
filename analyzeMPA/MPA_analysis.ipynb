{
 "cells": [
  {
   "cell_type": "markdown",
   "id": "521a4060",
   "metadata": {},
   "source": [
    "# Analyze types of MPA"
   ]
  },
  {
   "cell_type": "code",
   "execution_count": 7,
   "id": "49e9c64a",
   "metadata": {},
   "outputs": [],
   "source": [
    "import geojson\n",
    "import pandas as pd\n",
    "import numpy as np"
   ]
  },
  {
   "cell_type": "code",
   "execution_count": 8,
   "id": "36660661",
   "metadata": {},
   "outputs": [],
   "source": [
    "# Load geojson file\n",
    "path = '../assets/California_Marine_Protected_Areas_[ds582].geojson'\n",
    "with open(path) as f:\n",
    "    gj = geojson.load(f)\n",
    "\n",
    "# Extract Type, FULLNAME, OBJECTID\n",
    "dict_MPA = {'OBJECTID':[], 'Type':[], 'FULLNAME':[]}\n",
    "for i in range(len(gj['features'])):\n",
    "    for key in dict_MPA.keys():\n",
    "        dict_MPA[key].append(gj['features'][i]['properties'][key])\n",
    "        \n",
    "# Create dataframe from dict_MPA\n",
    "df_MPA = pd.DataFrame.from_dict(dict_MPA)"
   ]
  },
  {
   "cell_type": "code",
   "execution_count": 25,
   "id": "34842e98",
   "metadata": {},
   "outputs": [
    {
     "data": {
      "text/plain": [
       "array(['SMCA', 'Special Closure', 'SMR', 'SMRMA', 'SMP', 'SMCA (No-Take)',\n",
       "       'FMR', 'FMCA'], dtype=object)"
      ]
     },
     "execution_count": 25,
     "metadata": {},
     "output_type": "execute_result"
    }
   ],
   "source": [
    "pd.unique(df_MPA['Type'])"
   ]
  },
  {
   "cell_type": "code",
   "execution_count": 26,
   "id": "c2c0a8ca",
   "metadata": {},
   "outputs": [
    {
     "data": {
      "text/plain": [
       "SMCA               61\n",
       "SMR                49\n",
       "Special Closure    14\n",
       "SMCA (No-Take)     10\n",
       "FMR                 8\n",
       "SMP                 7\n",
       "SMRMA               5\n",
       "FMCA                1\n",
       "Name: Type, dtype: int64"
      ]
     },
     "execution_count": 26,
     "metadata": {},
     "output_type": "execute_result"
    }
   ],
   "source": [
    "df_MPA['Type'].value_counts()"
   ]
  },
  {
   "cell_type": "markdown",
   "id": "79107a88",
   "metadata": {},
   "source": [
    "# Extract MPA regulations from txt"
   ]
  },
  {
   "cell_type": "code",
   "execution_count": 57,
   "id": "01b0f966",
   "metadata": {},
   "outputs": [],
   "source": [
    "import json\n",
    "\n",
    "mpa_regulations = {}\n",
    "name = \"\"\n",
    "regulations = []\n",
    "item = \"\"\n",
    "\n",
    "with open('data.txt', 'r') as f:\n",
    "    for i, line in enumerate(f):\n",
    "        \n",
    "        if line[0] == '(':\n",
    "            \n",
    "            if item:\n",
    "                mpa_regulations[name].append(item)\n",
    "                item = ''\n",
    "            \n",
    "            if line[1].isdigit():\n",
    "                name = line.split(' ', 1)[1].rstrip()    # Remove newline\n",
    "                key_sentence = 'Special restrictions'\n",
    "                index = line.find(key_sentence)\n",
    "                if index != -1:\n",
    "                    name = name[:index-2]    # Remove Special restrictions...\n",
    "                else:\n",
    "                    name = name[:-1]    # Remove dot\n",
    "                mpa_regulations[name] = []\n",
    "\n",
    "            elif line[1] == 'B':\n",
    "                key_sentence = 'with the following specified exceptions:'\n",
    "                index = line.find(key_sentence)\n",
    "                # Thers is sentence after 'with the following specified exceptions:'\n",
    "                if index != -1 and index + len(key_sentence) + 1 < len(line):\n",
    "                    mpa_regulations[name].append(line[index + len(key_sentence) + 1:].rstrip())\n",
    "                elif index == -1:\n",
    "                    mpa_regulations[name].append(line[4:].rstrip())\n",
    "            elif line[1] != 'A':\n",
    "                mpa_regulations[name].append(line.split(' ', 1)[1].rstrip())\n",
    "\n",
    "        elif (line[0].isdigit() and line[1]=='.'):\n",
    "            if item:\n",
    "                mpa_regulations[name].append(item)\n",
    "                \n",
    "            item = line.split(' ', 1)[1].rstrip()\n",
    "        \n",
    "        elif item:\n",
    "            item += ' ' + line.rstrip()\n"
   ]
  },
  {
   "cell_type": "code",
   "execution_count": 59,
   "id": "7b0458f8",
   "metadata": {},
   "outputs": [],
   "source": [
    "json_path = 'mpa_regulations_new.json'\n",
    "with open(json_path, 'w', encoding='utf-8') as f:\n",
    "    json.dump(mpa_regulations, f, ensure_ascii=False, indent=4)\n"
   ]
  },
  {
   "cell_type": "code",
   "execution_count": null,
   "id": "14d6cc87",
   "metadata": {},
   "outputs": [],
   "source": []
  }
 ],
 "metadata": {
  "kernelspec": {
   "display_name": "Python 3 (ipykernel)",
   "language": "python",
   "name": "python3"
  },
  "language_info": {
   "codemirror_mode": {
    "name": "ipython",
    "version": 3
   },
   "file_extension": ".py",
   "mimetype": "text/x-python",
   "name": "python",
   "nbconvert_exporter": "python",
   "pygments_lexer": "ipython3",
   "version": "3.7.10"
  }
 },
 "nbformat": 4,
 "nbformat_minor": 5
}
