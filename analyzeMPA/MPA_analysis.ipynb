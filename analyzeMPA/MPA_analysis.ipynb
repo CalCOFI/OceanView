{
 "cells": [
  {
   "cell_type": "markdown",
   "id": "521a4060",
   "metadata": {},
   "source": [
    "# Analyze types of MPA"
   ]
  },
  {
   "cell_type": "code",
   "execution_count": 17,
   "id": "49e9c64a",
   "metadata": {},
   "outputs": [],
   "source": [
    "import geojson\n",
    "import pandas as pd\n",
    "import numpy as np"
   ]
  },
  {
   "cell_type": "code",
   "execution_count": 20,
   "id": "36660661",
   "metadata": {},
   "outputs": [],
   "source": [
    "# Load geojson file\n",
    "path = '../assets/California_Marine_Protected_Areas_[ds582].geojson'\n",
    "with open(path) as f:\n",
    "    gj = geojson.load(f)\n",
    "\n",
    "# Extract Type, FULLNAME, OBJECTID\n",
    "dict_MPA = {'OBJECTID':[], 'Type':[], 'FULLNAME':[]}\n",
    "for i in range(len(gj['features'])):\n",
    "    for key in dict_MPA.keys():\n",
    "        dict_MPA[key].append(gj['features'][i]['properties'][key])\n",
    "        \n",
    "# Create dataframe from dict_MPA\n",
    "df_MPA = pd.DataFrame.from_dict(dict_MPA)"
   ]
  },
  {
   "cell_type": "code",
   "execution_count": 25,
   "id": "34842e98",
   "metadata": {},
   "outputs": [
    {
     "data": {
      "text/plain": [
       "array(['SMCA', 'Special Closure', 'SMR', 'SMRMA', 'SMP', 'SMCA (No-Take)',\n",
       "       'FMR', 'FMCA'], dtype=object)"
      ]
     },
     "execution_count": 25,
     "metadata": {},
     "output_type": "execute_result"
    }
   ],
   "source": [
    "pd.unique(df_MPA['Type'])"
   ]
  },
  {
   "cell_type": "code",
   "execution_count": 26,
   "id": "c2c0a8ca",
   "metadata": {},
   "outputs": [
    {
     "data": {
      "text/plain": [
       "SMCA               61\n",
       "SMR                49\n",
       "Special Closure    14\n",
       "SMCA (No-Take)     10\n",
       "FMR                 8\n",
       "SMP                 7\n",
       "SMRMA               5\n",
       "FMCA                1\n",
       "Name: Type, dtype: int64"
      ]
     },
     "execution_count": 26,
     "metadata": {},
     "output_type": "execute_result"
    }
   ],
   "source": [
    "df_MPA['Type'].value_counts()"
   ]
  },
  {
   "cell_type": "code",
   "execution_count": null,
   "id": "87c15cab",
   "metadata": {},
   "outputs": [],
   "source": []
  }
 ],
 "metadata": {
  "kernelspec": {
   "display_name": "Python 3 (ipykernel)",
   "language": "python",
   "name": "python3"
  },
  "language_info": {
   "codemirror_mode": {
    "name": "ipython",
    "version": 3
   },
   "file_extension": ".py",
   "mimetype": "text/x-python",
   "name": "python",
   "nbconvert_exporter": "python",
   "pygments_lexer": "ipython3",
   "version": "3.7.10"
  }
 },
 "nbformat": 4,
 "nbformat_minor": 5
}
